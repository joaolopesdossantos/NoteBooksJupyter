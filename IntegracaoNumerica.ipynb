{
 "cells": [
  {
   "cell_type": "markdown",
   "metadata": {},
   "source": [
    "# Mecânica (F1006) 2019-20"
   ]
  },
  {
   "cell_type": "code",
   "execution_count": null,
   "metadata": {},
   "outputs": [],
   "source": [
    "%matplotlib inline                         \n",
    "import numpy as np                         # modulo numérico , essencial para trabalho cientifico; chamado\n",
    "                                           # com nome abreviado np\n",
    "from matplotlib.pylab import *             # modulo de graficos. "
   ]
  },
  {
   "cell_type": "markdown",
   "metadata": {},
   "source": [
    "# Ilustração do cálculo  numérico de integrais"
   ]
  },
  {
   "cell_type": "markdown",
   "metadata": {},
   "source": [
    "Neste *notebook* ilustramos o cálculo numérico de integrais com um exemplo muito simples.\n",
    "Supomos que \n",
    "\n",
    "$$ \n",
    "v(t)=\\sin(t)\n",
    "$$\n",
    "\n",
    "e pretendemos determinar o deslocamento no intervalo $t\\in[0,\\pi]$ \n",
    "\n",
    "$$ \n",
    "x(t)=\\int_0^\\pi \\sin(t)dt\n",
    "$$\n",
    "Mas, para calcular a área sob a curva do $\\sin(t)$, vamoa aproximar esta função por uma função em degraus, constante por intervalos, de modo a que o integral se reduz a uma soma de áreas de rectângulos.\n"
   ]
  },
  {
   "cell_type": "code",
   "execution_count": null,
   "metadata": {},
   "outputs": [],
   "source": [
    "# função que aproxima f por uma função em degraus\n",
    "\n",
    "def stepaprox(x, f,interval,nodes):\n",
    "    dx=(interval[1]-interval[0])/(nodes-1)\n",
    "    i = ((x-interval[0])// dx)*dx\n",
    "    return f(i)\n",
    "    "
   ]
  },
  {
   "cell_type": "markdown",
   "metadata": {},
   "source": [
    "A célula seguinte gera o gráfico da função seno e uma aproximação por uma função em degraus. Experimenta variar o número $N$ de pontos"
   ]
  },
  {
   "cell_type": "code",
   "execution_count": null,
   "metadata": {},
   "outputs": [],
   "source": [
    "N=5                           # Número de pontos\n",
    "#\n",
    "#\n",
    "t= np.linspace(0,np.pi,400)    # abcissas para grafico\n",
    "y1= np.sin(t)                  # ordenadas grafico de sin\n",
    "                               # codigo para o gráfico\n",
    "nodes=np.linspace(0,np.pi,N)\n",
    "y2=stepaprox(t,np.sin,[0,np.pi],N)\n",
    "fig,ax1 = subplots(1,1)\n",
    "ax1.plot(t,y1,'b-',lw=1, ms=.1)\n",
    "ax1.fill_between(t,y1,color='y')\n",
    "ax1.plot(t,y2,'r-')\n",
    "ax1.plot(nodes,np.sin(nodes),'ro',ms=1)\n",
    "#plot(t,sin(t), t,stepaprox(t,np.sin,[0,np.pi],N),'r-', nodes, np.sin(nodes),'ro')\n",
    "ax1.grid('True')"
   ]
  },
  {
   "cell_type": "markdown",
   "metadata": {},
   "source": [
    "O cálculo da área sob o gráfico da função em degraus (a vermelho)."
   ]
  },
  {
   "cell_type": "code",
   "execution_count": null,
   "metadata": {},
   "outputs": [],
   "source": [
    "dt=np.pi/4\n",
    "int5=(np.sin(0)*dt+np.sin(dt)*dt+np.sin(2*dt)*dt+np.sin(3*dt)*dt)\n",
    "int5"
   ]
  },
  {
   "cell_type": "markdown",
   "metadata": {},
   "source": [
    "O mesmo cálculo automatizado. Para explorar este resultado experimenta variar o número $N$ que muda o número de patamares da aproximação do seno. "
   ]
  },
  {
   "cell_type": "code",
   "execution_count": null,
   "metadata": {},
   "outputs": [],
   "source": [
    "N=5\n",
    "dt=np.pi/(N-1)\n",
    "nodos= np.arange(0,np.pi,dt)\n",
    "int=np.sum(np.sin(nodos))*dt\n",
    "print('%7.5f'% int)            #%7.5f:  número em virgula flutuante com \n",
    "                               # 7 caracteres e 5 casas decimais"
   ]
  },
  {
   "cell_type": "markdown",
   "metadata": {},
   "source": [
    "### Exercício"
   ]
  },
  {
   "cell_type": "markdown",
   "metadata": {},
   "source": [
    "Tenta generalizar este código para calcular o integral\n",
    "\n",
    "$$\n",
    "\\int_0^2 \\exp(-x)dx\n",
    "$$  \n",
    "\n",
    "e compara com o valor exacto\n",
    "$$\n",
    "\\int_0^2 \\exp(-x)dx= -(\\exp(-2)-1)=1-\\frac{1}{e^2}\n",
    "$$\n"
   ]
  }
 ],
 "metadata": {
  "kernelspec": {
   "display_name": "Python 3",
   "language": "python",
   "name": "python3"
  },
  "language_info": {
   "codemirror_mode": {
    "name": "ipython",
    "version": 3
   },
   "file_extension": ".py",
   "mimetype": "text/x-python",
   "name": "python",
   "nbconvert_exporter": "python",
   "pygments_lexer": "ipython3",
   "version": "3.8.3"
  }
 },
 "nbformat": 4,
 "nbformat_minor": 2
}
