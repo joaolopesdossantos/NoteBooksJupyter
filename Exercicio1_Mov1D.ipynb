{
 "cells": [
  {
   "cell_type": "code",
   "execution_count": 1,
   "metadata": {},
   "outputs": [],
   "source": [
    "# celula de inicialização.\n",
    "%matplotlib inline                         \n",
    "import numpy as np                  # modulo numerico , essencial para trabalho cientifico\n",
    "import pylab as pl                  # módulo gráfico"
   ]
  },
  {
   "cell_type": "markdown",
   "metadata": {},
   "source": [
    "### Exercício 1 do texto Movimento 1D"
   ]
  },
  {
   "cell_type": "code",
   "execution_count": 6,
   "metadata": {},
   "outputs": [
    {
     "name": "stdout",
     "output_type": "stream",
     "text": [
      "Exact\t\tEuler\t\tErro\t\tErro %\n",
      " 0.15602\t 0.27015\t-0.114127\t -42.246\n",
      " 0.04974\t 0.05403\t-0.004294\t  -7.947\n",
      " 0.02595\t 0.02702\t-0.001063\t  -3.934\n",
      " 0.01324\t 0.01351\t-0.000264\t  -1.957\n",
      " 0.00536\t 0.00540\t-0.000042\t  -0.780\n",
      " 0.00269\t 0.00270\t-0.000011\t  -0.390\n"
     ]
    }
   ],
   "source": [
    "t=1\n",
    "print(\"Exact\\t\\tEuler\\t\\tErro\\t\\tErro %\")  #cabeçalho\n",
    "for dt in [.5,.1,.05,.025,.01,0.005]:      # ciclo sobre valores dt\n",
    "    dx=np.sin(t+dt)-np.sin(t)              # dx exato\n",
    "    dx_euler=np.cos(t)*dt                  # dx euler\n",
    "    erro=dx-dx_euler                       # erro absoluto\n",
    "    erro_rel=erro/dx_euler                 # erro relativo \n",
    "    print (\"%8.5f\\t%8.5f\\t%8.6f\\t%8.3f\" %(dx,dx_euler,erro, erro_rel*100))"
   ]
  },
  {
   "cell_type": "code",
   "execution_count": null,
   "metadata": {},
   "outputs": [],
   "source": []
  }
 ],
 "metadata": {
  "kernelspec": {
   "display_name": "Python 3",
   "language": "python",
   "name": "python3"
  },
  "language_info": {
   "codemirror_mode": {
    "name": "ipython",
    "version": 3
   },
   "file_extension": ".py",
   "mimetype": "text/x-python",
   "name": "python",
   "nbconvert_exporter": "python",
   "pygments_lexer": "ipython3",
   "version": "3.8.3"
  }
 },
 "nbformat": 4,
 "nbformat_minor": 4
}
