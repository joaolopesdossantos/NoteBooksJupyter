{
 "cells": [
  {
   "cell_type": "code",
   "execution_count": 1,
   "metadata": {},
   "outputs": [],
   "source": [
    "# célula de inicialização\n",
    "%matplotlib inline                         \n",
    "import numpy as np              # modulo numerico, essencial para trabalho cientifico\n",
    "import pylab as pl   "
   ]
  },
  {
   "cell_type": "markdown",
   "metadata": {},
   "source": [
    "Este notebook estuda o problema de colisões frontais inelásticas entre 3 partículas 1, 2, 3 de iguais massas e tenta investigar a seguinte questão:\n",
    " - Quantas colisões ocorrem até as partículas se separarem definitivamente, em função do coeficiente de restituição?"
   ]
  },
  {
   "cell_type": "code",
   "execution_count": 124,
   "metadata": {},
   "outputs": [],
   "source": [
    "# Ver solução do problema na TP8\n",
    "# matriz para colisão 12\n",
    "#\n",
    "def C12(e):\n",
    "    return .5*np.array([[1-e,1+e,0],[1+e,1-e,0],[0,0,2]])\n",
    "# matriz para colisão 23\n",
    "#\n",
    "def C23(e):\n",
    "     return .5*np.array([[2,0,0],[0,1-e,1+e],[0,1+e,1-e]])\n",
    "    "
   ]
  },
  {
   "cell_type": "code",
   "execution_count": 125,
   "metadata": {},
   "outputs": [],
   "source": [
    "# velocidades iniciais\n",
    "v0=np.array([1,0,0])"
   ]
  },
  {
   "cell_type": "code",
   "execution_count": 126,
   "metadata": {},
   "outputs": [
    {
     "name": "stdout",
     "output_type": "stream",
     "text": [
      "[0.25 0.75 0.  ]\n"
     ]
    }
   ],
   "source": [
    "# primeira colisão 1-2\n",
    "e=.5\n",
    "v1 =np.dot(C12(.5),v0)\n",
    "print(v1)"
   ]
  },
  {
   "cell_type": "code",
   "execution_count": 127,
   "metadata": {},
   "outputs": [
    {
     "name": "stdout",
     "output_type": "stream",
     "text": [
      "[0.25   0.1875 0.5625]\n"
     ]
    }
   ],
   "source": [
    "# segunda colisão 1-3\n",
    "v2=np.dot( C23(.5),v1)\n",
    "print(v2)"
   ]
  },
  {
   "cell_type": "code",
   "execution_count": 128,
   "metadata": {},
   "outputs": [
    {
     "name": "stdout",
     "output_type": "stream",
     "text": [
      "[0.203125 0.234375 0.5625  ]\n"
     ]
    }
   ],
   "source": [
    "# terceira colisão 1-2\n",
    "v3=np.dot( C12(.5),v2)\n",
    "print(v3)"
   ]
  },
  {
   "cell_type": "markdown",
   "metadata": {},
   "source": [
    "Agora procuramos uma maneira de representar sucessivamente os estados das partículas."
   ]
  },
  {
   "cell_type": "code",
   "execution_count": 129,
   "metadata": {},
   "outputs": [
    {
     "name": "stdout",
     "output_type": "stream",
     "text": [
      "6\n",
      "\n",
      "[0.33270906 0.33363155 0.33365939]\n"
     ]
    }
   ],
   "source": [
    "Nmax=100                      # máximo de colisões\n",
    "v=np.zeros((3,Nmax),float)    # velocidades das 3 part.\n",
    "#\n",
    "#estado inicial\n",
    "v[0,0]=1\n",
    "i=0\n",
    "e=.1\n",
    "while v[0,i]>v[1,i]:    # v1>v2 para 1 e 2 colidirem\n",
    "    v[:, i+1]=np.dot(C12(e),v[:,i])\n",
    "    i+=1\n",
    "    while v[1,i]>v[2,i]: # v2>v3 para 2 e 3 colidirem\n",
    "        v[:,i+1]=np.dot(C23(e),v[:,i])\n",
    "        i+=1 \n",
    "print(i)\n",
    "print()\n",
    "print(v[:,i])\n",
    "    "
   ]
  },
  {
   "cell_type": "code",
   "execution_count": 130,
   "metadata": {},
   "outputs": [
    {
     "data": {
      "text/plain": [
       "Text(0.5, 1.0, '$e=.1$')"
      ]
     },
     "execution_count": 130,
     "metadata": {},
     "output_type": "execute_result"
    },
    {
     "data": {
      "image/png": "[encoded data removed]",
      "text/plain": [
       "<Figure size 432x288 with 1 Axes>"
      ]
     },
     "metadata": {
      "needs_background": "light"
     },
     "output_type": "display_data"
    }
   ],
   "source": [
    "time=np.arange(0,100,1)\n",
    "pl.plot(time,v[0,:],'r-o',time,v[1,:],'b-s',time,v[2,:],'g-d')\n",
    "pl.grid('True')\n",
    "pl.axis([0,6,0,1])\n",
    "pl.legend(['1','2','3'])\n",
    "pl.title(r'$e=.1$')\n"
   ]
  },
  {
   "cell_type": "code",
   "execution_count": 131,
   "metadata": {},
   "outputs": [],
   "source": [
    "def Ncolisions(e):\n",
    "    Nmax=100\n",
    "    v=np.zeros((3,Nmax),float)\n",
    "    v[0,0]=1\n",
    "    i=0\n",
    "    while v[0,i]>v[1,i]:\n",
    "        v[:, i+1]=np.dot(C12(e),v[:,i])\n",
    "        i+=1\n",
    "        while v[1,i]>v[2,i]:\n",
    "            v[:,i+1]=np.dot(C23(e),v[:,i])\n",
    "            i+=1 \n",
    "    return (i, v[:,i])\n"
   ]
  },
  {
   "cell_type": "code",
   "execution_count": 133,
   "metadata": {},
   "outputs": [
    {
     "data": {
      "image/png": "[encoded data removed]",
      "text/plain": [
       "<Figure size 432x288 with 1 Axes>"
      ]
     },
     "metadata": {
      "needs_background": "light"
     },
     "output_type": "display_data"
    }
   ],
   "source": [
    "evals = np.linspace(0.001,1,100)\n",
    "Nvals= np.zeros(100,float) \n",
    "for i in range(len(evals)):\n",
    "    Nvals[i]=Ncolisions(evals[i])[0]\n",
    "pl.plot(evals,Nvals,'b-o',ms=4)\n",
    "pl.grid('True')\n",
    "pl.xlabel(r'$e$', FontSize=16)\n",
    "pl.ylabel(r'$n_{col}$', FontSize=16);"
   ]
  },
  {
   "cell_type": "markdown",
   "metadata": {},
   "source": [
    "Note-se que estes programas dão um valor de $N$ para $e=10^{-5}$ menor do que para $e=10^{-4}$. Isto resulta possívelmente de erros de arreondamento porque as velocidades tendem muito rapidamente para valores quase iguais. "
   ]
  },
  {
   "cell_type": "code",
   "execution_count": 134,
   "metadata": {},
   "outputs": [
    {
     "data": {
      "text/plain": [
       "56"
      ]
     },
     "execution_count": 134,
     "metadata": {},
     "output_type": "execute_result"
    }
   ],
   "source": [
    "Ncolisions(.0001)[0]"
   ]
  },
  {
   "cell_type": "code",
   "execution_count": 135,
   "metadata": {},
   "outputs": [
    {
     "data": {
      "text/plain": [
       "54"
      ]
     },
     "execution_count": 135,
     "metadata": {},
     "output_type": "execute_result"
    }
   ],
   "source": [
    "Ncolisions(.00001)[0]"
   ]
  }
 ],
 "metadata": {
  "kernelspec": {
   "display_name": "Python 3",
   "language": "python",
   "name": "python3"
  },
  "language_info": {
   "codemirror_mode": {
    "name": "ipython",
    "version": 3
   },
   "file_extension": ".py",
   "mimetype": "text/x-python",
   "name": "python",
   "nbconvert_exporter": "python",
   "pygments_lexer": "ipython3",
   "version": "3.8.3"
  }
 },
 "nbformat": 4,
 "nbformat_minor": 4
}
